{
 "cells": [
  {
   "cell_type": "code",
   "execution_count": 1,
   "id": "super-blade",
   "metadata": {},
   "outputs": [],
   "source": [
    "import torch\n",
    "from torchvision import transforms as tfs\n",
    "from torch.utils.data import DataLoader\n",
    "from utils import hyperparameters\n",
    "from dataset import *\n",
    "from generator import Generator\n",
    "from communications import TCPClient\n",
    "import socket"
   ]
  },
  {
   "cell_type": "code",
   "execution_count": 2,
   "id": "gentle-forest",
   "metadata": {},
   "outputs": [],
   "source": [
    "basic_path = '/media/felpipe/Archivos HDD/SocLab/'\n",
    "train_path = basic_path + 'train'\n",
    "valid_path = basic_path + 'valid'\n",
    "test__path = basic_path + 'test'\n",
    "\n",
    "seq_len = max([dataset_explore(train_path), dataset_explore(valid_path), dataset_explore(test__path)])\n",
    "\n",
    "netparams = hyperparameters(w=320, \n",
    "                            h=239, \n",
    "                            latent_dim=512, \n",
    "                            history_length=8, \n",
    "                            future_length=12,\n",
    "                            enc_layers=2,\n",
    "                            lstm_dim=512,\n",
    "                            output_dim=2,\n",
    "                            up_criterion=0.9,\n",
    "                            down_criterion=0.0,\n",
    "                            seq_len=seq_len,\n",
    "                            attention='add')\n",
    "\n",
    "image_transforms = tfs.Compose([tfs.Resize((320, 239)),\n",
    "                               tfs.ToTensor(),\n",
    "                               tfs.Normalize([0.5, 0.5, 0.5, 0.5], [0.5, 0.5, 0.5, 0.5])])\n",
    "\n",
    "# test__set = RobotDataset(test__path, 512, seq_len, image_transforms)\n",
    "\n",
    "# test__loader = DataLoader(test__set, batch_size=8, shuffle=False)"
   ]
  },
  {
   "cell_type": "code",
   "execution_count": 3,
   "id": "differential-doubt",
   "metadata": {},
   "outputs": [],
   "source": [
    "device = torch.device('cuda:0' if torch.cuda.is_available() else 'cpu')\n",
    "gen = Generator(netparams, device).to(device)\n",
    "checkpoint = torch.load('gen_Glre3Dlre4_64btch_120ep.pth')\n",
    "gen.load_state_dict(checkpoint)\n",
    "a = gen.eval()\n",
    "# for batch in test__loader:\n",
    "#     break"
   ]
  },
  {
   "cell_type": "code",
   "execution_count": 4,
   "id": "contemporary-congo",
   "metadata": {},
   "outputs": [],
   "source": [
    "HEADERSIZE = 16\n",
    "TEXTCODING = 'utf-8'\n",
    "BUFFERREAD = 1024\n",
    "PORT = 8021\n",
    "\n",
    "s = socket.socket(socket.AF_INET, socket.SOCK_STREAM) #Socket Family and socket type\n",
    "s.bind((socket.gethostname(), PORT)) #IP direction and port\n",
    "s.listen(5)             "
   ]
  },
  {
   "cell_type": "code",
   "execution_count": 5,
   "id": "technological-german",
   "metadata": {},
   "outputs": [
    {
     "name": "stdout",
     "output_type": "stream",
     "text": [
      "Conection from ('127.0.0.1', 56170) has been established!\n",
      "Handshake successful\n"
     ]
    },
    {
     "ename": "UnicodeDecodeError",
     "evalue": "'utf-8' codec can't decode byte 0x89 in position 0: invalid start byte",
     "output_type": "error",
     "traceback": [
      "\u001b[0;31m---------------------------------------------------------------------------\u001b[0m",
      "\u001b[0;31mUnicodeDecodeError\u001b[0m                        Traceback (most recent call last)",
      "\u001b[0;32m<ipython-input-5-ac08a5a3b523>\u001b[0m in \u001b[0;36m<module>\u001b[0;34m\u001b[0m\n\u001b[1;32m      7\u001b[0m \u001b[0;32mwhile\u001b[0m \u001b[0mclient\u001b[0m\u001b[0;34m.\u001b[0m\u001b[0mconnected\u001b[0m\u001b[0;34m:\u001b[0m\u001b[0;34m\u001b[0m\u001b[0;34m\u001b[0m\u001b[0m\n\u001b[1;32m      8\u001b[0m \u001b[0;34m\u001b[0m\u001b[0m\n\u001b[0;32m----> 9\u001b[0;31m     \u001b[0mimgs\u001b[0m\u001b[0;34m,\u001b[0m \u001b[0mroutes\u001b[0m\u001b[0;34m,\u001b[0m \u001b[0mobjective\u001b[0m \u001b[0;34m=\u001b[0m \u001b[0mclient\u001b[0m\u001b[0;34m.\u001b[0m\u001b[0mReceive\u001b[0m\u001b[0;34m(\u001b[0m\u001b[0;34m)\u001b[0m\u001b[0;34m\u001b[0m\u001b[0;34m\u001b[0m\u001b[0m\n\u001b[0m\u001b[1;32m     10\u001b[0m     \u001b[0;32mif\u001b[0m \u001b[0mlen\u001b[0m\u001b[0;34m(\u001b[0m\u001b[0mimgs\u001b[0m\u001b[0;34m)\u001b[0m \u001b[0;34m==\u001b[0m \u001b[0;36m0\u001b[0m \u001b[0;32mor\u001b[0m \u001b[0mlen\u001b[0m\u001b[0;34m(\u001b[0m\u001b[0mroutes\u001b[0m\u001b[0;34m)\u001b[0m \u001b[0;34m==\u001b[0m \u001b[0;36m0\u001b[0m \u001b[0;32mor\u001b[0m \u001b[0mlen\u001b[0m\u001b[0;34m(\u001b[0m\u001b[0mobjective\u001b[0m\u001b[0;34m)\u001b[0m \u001b[0;34m==\u001b[0m \u001b[0;36m0\u001b[0m\u001b[0;34m:\u001b[0m\u001b[0;34m\u001b[0m\u001b[0;34m\u001b[0m\u001b[0m\n\u001b[1;32m     11\u001b[0m         \u001b[0mclient\u001b[0m\u001b[0;34m.\u001b[0m\u001b[0mSend\u001b[0m\u001b[0;34m(\u001b[0m\u001b[0mwaitRoute\u001b[0m\u001b[0;34m)\u001b[0m\u001b[0;34m\u001b[0m\u001b[0;34m\u001b[0m\u001b[0m\n",
      "\u001b[0;32m~/proyectos/Tesis/RoboGAN/communications.py\u001b[0m in \u001b[0;36mReceive\u001b[0;34m(self)\u001b[0m\n\u001b[1;32m     91\u001b[0m             \u001b[0mheader\u001b[0m \u001b[0;34m=\u001b[0m \u001b[0mfull_msg\u001b[0m\u001b[0;34m[\u001b[0m\u001b[0;34m:\u001b[0m\u001b[0mself\u001b[0m\u001b[0;34m.\u001b[0m\u001b[0mheadersize\u001b[0m\u001b[0;34m]\u001b[0m\u001b[0;34m\u001b[0m\u001b[0;34m\u001b[0m\u001b[0m\n\u001b[1;32m     92\u001b[0m             \u001b[0mtrajlen\u001b[0m \u001b[0;34m=\u001b[0m \u001b[0mint\u001b[0m\u001b[0;34m(\u001b[0m\u001b[0mheader\u001b[0m\u001b[0;34m.\u001b[0m\u001b[0mdecode\u001b[0m\u001b[0;34m(\u001b[0m\u001b[0mself\u001b[0m\u001b[0;34m.\u001b[0m\u001b[0mtext_coding\u001b[0m\u001b[0;34m)\u001b[0m\u001b[0;34m)\u001b[0m\u001b[0;34m\u001b[0m\u001b[0;34m\u001b[0m\u001b[0m\n\u001b[0;32m---> 93\u001b[0;31m             \u001b[0mtraj\u001b[0m \u001b[0;34m=\u001b[0m \u001b[0mfull_msg\u001b[0m\u001b[0;34m[\u001b[0m\u001b[0mself\u001b[0m\u001b[0;34m.\u001b[0m\u001b[0mheadersize\u001b[0m\u001b[0;34m:\u001b[0m\u001b[0;34m(\u001b[0m\u001b[0mself\u001b[0m\u001b[0;34m.\u001b[0m\u001b[0mheadersize\u001b[0m \u001b[0;34m+\u001b[0m \u001b[0mtrajlen\u001b[0m\u001b[0;34m)\u001b[0m\u001b[0;34m]\u001b[0m\u001b[0;34m.\u001b[0m\u001b[0mdecode\u001b[0m\u001b[0;34m(\u001b[0m\u001b[0mself\u001b[0m\u001b[0;34m.\u001b[0m\u001b[0mtext_coding\u001b[0m\u001b[0;34m)\u001b[0m\u001b[0;34m\u001b[0m\u001b[0;34m\u001b[0m\u001b[0m\n\u001b[0m\u001b[1;32m     94\u001b[0m             \u001b[0mfull_msg\u001b[0m \u001b[0;34m=\u001b[0m \u001b[0mfull_msg\u001b[0m\u001b[0;34m[\u001b[0m\u001b[0;34m(\u001b[0m\u001b[0mself\u001b[0m\u001b[0;34m.\u001b[0m\u001b[0mheadersize\u001b[0m \u001b[0;34m+\u001b[0m \u001b[0mtrajlen\u001b[0m\u001b[0;34m)\u001b[0m\u001b[0;34m:\u001b[0m\u001b[0;34m]\u001b[0m\u001b[0;34m\u001b[0m\u001b[0;34m\u001b[0m\u001b[0m\n\u001b[1;32m     95\u001b[0m \u001b[0;34m\u001b[0m\u001b[0m\n",
      "\u001b[0;31mUnicodeDecodeError\u001b[0m: 'utf-8' codec can't decode byte 0x89 in position 0: invalid start byte"
     ]
    }
   ],
   "source": [
    "clientsocket, address = s.accept()\n",
    "print(\"Conection from\", address, \"has been established!\")\n",
    "client = TCPClient(clientsocket, HEADERSIZE, TEXTCODING, BUFFERREAD)\n",
    "client.Handshake()\n",
    "waitRoute = torch.zeros((1, 12, 3))\n",
    "\n",
    "while client.connected:\n",
    "    \n",
    "    imgs, routes, objective = client.Receive()\n",
    "    if len(imgs) == 0 or len(routes) == 0 or len(objective) == 0:\n",
    "        client.Send(waitRoute)\n",
    "        continue\n",
    "    \n",
    "    test_set = OnlineProcessing(imgs, \n",
    "                                routes, \n",
    "                                objective, \n",
    "                                netparams['history'], \n",
    "                                netparams['predict_seq'], \n",
    "                                netparams['latent_dim'], \n",
    "                                image_transforms)\n",
    "    \n",
    "    test_loader = DataLoader(test_set, batch_size=1, shuffle=False)\n",
    "    \n",
    "    for imgs_t, z_t, past_routes_t, objective_t in test_loader:\n",
    "        imgs_t = imgs_t.to(device)\n",
    "        z_t = z_t.to(device)\n",
    "        past_routes_t = get_relative(past_routes_t)\n",
    "        past_routes_t = past_routes_t.to(device)\n",
    "        objective_t = objective_t.to(device)\n",
    "        predicted_route = gen(imgs_t, z_t, past_routes_t, objective_t)\n",
    "        \n",
    "    client.Send(predicted_route)\n"
   ]
  },
  {
   "cell_type": "code",
   "execution_count": null,
   "id": "tracked-seven",
   "metadata": {},
   "outputs": [],
   "source": [
    "import matplotlib.pyplot as plt\n",
    "import numpy as np\n",
    "for img in imgs:\n",
    "    plt.figure()\n",
    "    plt.imshow(np.asarray(img))"
   ]
  },
  {
   "cell_type": "code",
   "execution_count": 6,
   "id": "trained-wagon",
   "metadata": {},
   "outputs": [],
   "source": [
    "import copy\n",
    "import io"
   ]
  },
  {
   "cell_type": "code",
   "execution_count": 7,
   "id": "retained-grade",
   "metadata": {},
   "outputs": [],
   "source": [
    "full_msg = copy.copy(client.last_msg)"
   ]
  },
  {
   "cell_type": "code",
   "execution_count": 8,
   "id": "residential-attendance",
   "metadata": {},
   "outputs": [],
   "source": [
    "imgs = []\n",
    "while True:\n",
    "    byteimg = b''\n",
    "    header = full_msg[:HEADERSIZE]\n",
    "    if header == b'':\n",
    "        break\n",
    "    imglen = int(header.decode(TEXTCODING))\n",
    "    byteimg = full_msg[HEADERSIZE:(HEADERSIZE + imglen)]\n",
    "    full_msg = full_msg[(HEADERSIZE + imglen):]\n",
    "    if byteimg.find(b'<SON>') == -1 and byteimg.find(b'<EOC>') == -1:\n",
    "        img = Image.open(io.BytesIO(byteimg))                \n",
    "        imgs.append(img)        \n",
    "    else:\n",
    "        break"
   ]
  },
  {
   "cell_type": "code",
   "execution_count": 14,
   "id": "separate-instrument",
   "metadata": {},
   "outputs": [
    {
     "ename": "UnicodeDecodeError",
     "evalue": "'utf-8' codec can't decode byte 0x89 in position 0: invalid start byte",
     "output_type": "error",
     "traceback": [
      "\u001b[0;31m---------------------------------------------------------------------------\u001b[0m",
      "\u001b[0;31mUnicodeDecodeError\u001b[0m                        Traceback (most recent call last)",
      "\u001b[0;32m<ipython-input-14-92cd1131a6df>\u001b[0m in \u001b[0;36m<module>\u001b[0;34m\u001b[0m\n\u001b[1;32m      1\u001b[0m \u001b[0mheader\u001b[0m \u001b[0;34m=\u001b[0m \u001b[0mfull_msg\u001b[0m\u001b[0;34m[\u001b[0m\u001b[0;34m:\u001b[0m\u001b[0mHEADERSIZE\u001b[0m\u001b[0;34m]\u001b[0m\u001b[0;34m\u001b[0m\u001b[0;34m\u001b[0m\u001b[0m\n\u001b[1;32m      2\u001b[0m \u001b[0mtrajlen\u001b[0m \u001b[0;34m=\u001b[0m \u001b[0mint\u001b[0m\u001b[0;34m(\u001b[0m\u001b[0mheader\u001b[0m\u001b[0;34m.\u001b[0m\u001b[0mdecode\u001b[0m\u001b[0;34m(\u001b[0m\u001b[0mTEXTCODING\u001b[0m\u001b[0;34m)\u001b[0m\u001b[0;34m)\u001b[0m\u001b[0;34m\u001b[0m\u001b[0;34m\u001b[0m\u001b[0m\n\u001b[0;32m----> 3\u001b[0;31m \u001b[0mtraj\u001b[0m \u001b[0;34m=\u001b[0m \u001b[0mfull_msg\u001b[0m\u001b[0;34m[\u001b[0m\u001b[0mHEADERSIZE\u001b[0m\u001b[0;34m:\u001b[0m\u001b[0;34m(\u001b[0m\u001b[0mHEADERSIZE\u001b[0m \u001b[0;34m+\u001b[0m \u001b[0mtrajlen\u001b[0m\u001b[0;34m)\u001b[0m\u001b[0;34m]\u001b[0m\u001b[0;34m.\u001b[0m\u001b[0mdecode\u001b[0m\u001b[0;34m(\u001b[0m\u001b[0mTEXTCODING\u001b[0m\u001b[0;34m)\u001b[0m\u001b[0;34m\u001b[0m\u001b[0;34m\u001b[0m\u001b[0m\n\u001b[0m\u001b[1;32m      4\u001b[0m \u001b[0mfull_msg\u001b[0m \u001b[0;34m=\u001b[0m \u001b[0mfull_msg\u001b[0m\u001b[0;34m[\u001b[0m\u001b[0;34m(\u001b[0m\u001b[0mHEADERSIZE\u001b[0m \u001b[0;34m+\u001b[0m \u001b[0mtrajlen\u001b[0m\u001b[0;34m)\u001b[0m\u001b[0;34m:\u001b[0m\u001b[0;34m]\u001b[0m\u001b[0;34m\u001b[0m\u001b[0;34m\u001b[0m\u001b[0m\n",
      "\u001b[0;31mUnicodeDecodeError\u001b[0m: 'utf-8' codec can't decode byte 0x89 in position 0: invalid start byte"
     ]
    }
   ],
   "source": [
    "header = full_msg[:HEADERSIZE]\n",
    "trajlen = int(header.decode(TEXTCODING))\n",
    "traj = full_msg[HEADERSIZE:(HEADERSIZE + trajlen)].decode(TEXTCODING)\n",
    "full_msg = full_msg[(HEADERSIZE + trajlen):]\n"
   ]
  },
  {
   "cell_type": "code",
   "execution_count": 17,
   "id": "prospective-vulnerability",
   "metadata": {},
   "outputs": [
    {
     "data": {
      "text/plain": [
       "b'              23Numbers initiating<SON>             196-1.5244;-0.6314;282.9962|-1.5705;-0.5200;293.5513|-1.6265;-0.3850;303.7834|-1.6892;-0.2336;314.8340|-1.7472;-0.0937;321.7007|-1.8180;0.0774;327.5520|-1.8854;0.2400;339.8716|-1.8231;0.3729;350.1453             14326.2159;-282.9962|25.5892;-293.5513|24.8683;-303.7834|24.1109;-314.8340|23.4586;-321.7007|22.7235;-327.5520|22.0884;-339.8716|20.8219;-350.1453              24Stop stream message<EOS>'"
      ]
     },
     "execution_count": 17,
     "metadata": {},
     "output_type": "execute_result"
    }
   ],
   "source": [
    "full_msg = full_msg[(HEADERSIZE + 135483):]\n",
    "full_msg"
   ]
  },
  {
   "cell_type": "code",
   "execution_count": 16,
   "id": "marked-industry",
   "metadata": {},
   "outputs": [],
   "source": [
    "byteimg = b''\n",
    "header = full_msg[:HEADERSIZE]\n",
    "imglen = int(header.decode(TEXTCODING))\n",
    "byteimg = full_msg[HEADERSIZE:(HEADERSIZE + imglen)]\n",
    "full_msg = full_msg[(HEADERSIZE + imglen):]\n",
    "if byteimg.find(b'<SON>') == -1 and byteimg.find(b'<EOC>') == -1:\n",
    "    img = Image.open(io.BytesIO(byteimg))                \n",
    "    imgs.append(img)   "
   ]
  },
  {
   "cell_type": "code",
   "execution_count": null,
   "id": "hearing-controversy",
   "metadata": {},
   "outputs": [],
   "source": []
  }
 ],
 "metadata": {
  "kernelspec": {
   "display_name": "Python 3",
   "language": "python",
   "name": "python3"
  },
  "language_info": {
   "codemirror_mode": {
    "name": "ipython",
    "version": 3
   },
   "file_extension": ".py",
   "mimetype": "text/x-python",
   "name": "python",
   "nbconvert_exporter": "python",
   "pygments_lexer": "ipython3",
   "version": "3.6.9"
  }
 },
 "nbformat": 4,
 "nbformat_minor": 5
}
